{
 "cells": [
  {
   "cell_type": "code",
   "execution_count": 1,
   "id": "7695eaae",
   "metadata": {},
   "outputs": [
    {
     "name": "stdout",
     "output_type": "stream",
     "text": [
      "Total number of songs: 953\n",
      "Total number of songs in key E: 62\n",
      "The most occurrences for column artist(s)_name is Bad Bunny with 40 occurrences\n"
     ]
    }
   ],
   "source": [
    "import pandas as pd\n",
    "\n",
    "# Counts the total number of songs in the csv file\n",
    "def count_total_songs(file):\n",
    "    return file[\"track_name\"].count()\n",
    "\n",
    "# Counts the total number of songs in the specified key\n",
    "def count_songs_in_key(file, key=\"E\"):\n",
    "    total_songs_keys = file[\"key\"]\n",
    "    songs_in_key = 0\n",
    "    for column in total_songs_keys:\n",
    "        if column == key.upper():\n",
    "            songs_in_key += 1\n",
    "    return songs_in_key\n",
    "\n",
    "def count_max_occurrences(file, column):\n",
    "    data = file[column]\n",
    "    occurences = {}\n",
    "    max_count = 0\n",
    "    highest_occurence = None\n",
    "\n",
    "    for item in data:\n",
    "        # For the case of artists names, split the values if multiple artists and add an occurrence to each respective artist listed\n",
    "        datum = item.split(\",\")\n",
    "        for i in datum:\n",
    "            i = i.strip()\n",
    "            try:\n",
    "                occurences[i] += 1\n",
    "                if occurences[i] > max_count:\n",
    "                    max_count = occurences[i]\n",
    "                    highest_occurence = (i, occurences[i])\n",
    "            except KeyError:\n",
    "                occurences[i] = 1\n",
    "    return highest_occurence\n",
    "\n",
    "\n",
    "file = pd.read_csv('spotify-2023.csv', encoding='latin-1')\n",
    "\n",
    "print(f\"Total number of songs: {count_total_songs(file)}\")\n",
    "# Change this value to desired key\n",
    "key = \"e\"\n",
    "print(f\"Total number of songs in key {key.upper()}: {count_songs_in_key(file, key)}\")\n",
    "# Change this value to desired column\n",
    "column = \"artist(s)_name\"\n",
    "max_occurrences = count_max_occurrences(file, column)\n",
    "print(f\"The most occurrences for column {column} is {max_occurrences[0]} with {max_occurrences[1]} occurrences\")"
   ]
  },
  {
   "cell_type": "code",
   "execution_count": null,
   "id": "229ce36f",
   "metadata": {},
   "outputs": [],
   "source": []
  }
 ],
 "metadata": {
  "kernelspec": {
   "display_name": "Python 3 (ipykernel)",
   "language": "python",
   "name": "python3"
  },
  "language_info": {
   "codemirror_mode": {
    "name": "ipython",
    "version": 3
   },
   "file_extension": ".py",
   "mimetype": "text/x-python",
   "name": "python",
   "nbconvert_exporter": "python",
   "pygments_lexer": "ipython3",
   "version": "3.11.5"
  }
 },
 "nbformat": 4,
 "nbformat_minor": 5
}
