{
 "cells": [
  {
   "cell_type": "code",
   "execution_count": 12,
   "metadata": {},
   "outputs": [
    {
     "data": {
      "text/plain": [
       "[('Taylor Swift', 34)]"
      ]
     },
     "execution_count": 12,
     "metadata": {},
     "output_type": "execute_result"
    }
   ],
   "source": [
    "import pandas as pd\n",
    "import numpy as np\n",
    "from collections import Counter\n",
    "\n",
    "songs = pd.read_csv(\"./spotify-2023.csv\", encoding=\"ISO-8859-1\")\n",
    "\n",
    "art = songs[\"artist(s)_name\"]\n",
    "art_a = np.array(art)\n",
    "art_list = art_a.tolist()\n",
    "art_counts = Counter(art_list)\n",
    "most_common_art = art_counts.most_common(1)\n",
    "most_common_art\n",
    "\n",
    "# len(songs)"
   ]
  }
 ],
 "metadata": {
  "kernelspec": {
   "display_name": "base",
   "language": "python",
   "name": "python3"
  },
  "language_info": {
   "codemirror_mode": {
    "name": "ipython",
    "version": 3
   },
   "file_extension": ".py",
   "mimetype": "text/x-python",
   "name": "python",
   "nbconvert_exporter": "python",
   "pygments_lexer": "ipython3",
   "version": "3.10.9"
  }
 },
 "nbformat": 4,
 "nbformat_minor": 2
}
