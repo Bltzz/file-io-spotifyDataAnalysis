{
 "cells": [
  {
   "cell_type": "code",
   "execution_count": 1,
   "id": "a7f2a519",
   "metadata": {},
   "outputs": [
    {
     "name": "stdout",
     "output_type": "stream",
     "text": [
      "The total songs in the spotify csv file are: 953\n",
      "There are 62 songs in Spotify CSV where key is E\n",
      "The most common artist is Taylor Swift\n"
     ]
    }
   ],
   "source": [
    "import pandas as pd\n",
    "import numpy as np\n",
    "from collections import Counter\n",
    "\n",
    "\n",
    "def main():\n",
    "    # get the csv file\n",
    "    spotify_data = pd.read_csv(\"spotify-2023.csv\", encoding=\"ISO-8859-1\")\n",
    "\n",
    "    # Challenge 1\n",
    "    songs = spotify_data[\"track_name\"]\n",
    "    print(f\"The total songs in the spotify csv file are: {len(songs)}\")\n",
    "\n",
    "    # Challenge 2\n",
    "    songs_key_E = spotify_data[spotify_data[\"key\"] == \"E\"]\n",
    "    print(f\"There are {len(songs_key_E)} songs in Spotify CSV where key is E\")\n",
    "\n",
    "    # Challenge 3\n",
    "\n",
    "    art = spotify_data[\"artist(s)_name\"]\n",
    "    art_a = np.array(art)\n",
    "    art_list = art_a.tolist()\n",
    "    art_counts = Counter(art_list)\n",
    "    most_common_art = art_counts.most_common(1)\n",
    "    print(f\"The most common artist is {most_common_art[0][0]}\")\n",
    "\n",
    "\n",
    "if __name__ == \"__main__\":\n",
    "    main()\n"
   ]
  },
  {
   "cell_type": "code",
   "execution_count": null,
   "id": "1d19ea51",
   "metadata": {},
   "outputs": [],
   "source": []
  }
 ],
 "metadata": {
  "kernelspec": {
   "display_name": "Python 3 (ipykernel)",
   "language": "python",
   "name": "python3"
  },
  "language_info": {
   "codemirror_mode": {
    "name": "ipython",
    "version": 3
   },
   "file_extension": ".py",
   "mimetype": "text/x-python",
   "name": "python",
   "nbconvert_exporter": "python",
   "pygments_lexer": "ipython3",
   "version": "3.11.5"
  }
 },
 "nbformat": 4,
 "nbformat_minor": 5
}
